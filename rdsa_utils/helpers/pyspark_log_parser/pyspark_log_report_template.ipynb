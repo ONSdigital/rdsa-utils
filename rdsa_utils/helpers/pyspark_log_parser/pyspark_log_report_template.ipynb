{
 "cells": [
  {
   "cell_type": "code",
   "execution_count": null,
   "id": "839f0557",
   "metadata": {
    "tags": [
     "parameters"
    ]
   },
   "outputs": [],
   "source": [
    "# Parameters (Injected by Papermill)\n",
    "logs_data = []  # Papermill will inject this\n"
   ]
  },
  {
   "cell_type": "code",
   "execution_count": null,
   "id": "1345b252",
   "metadata": {},
   "outputs": [],
   "source": [
    "from datetime import datetime, timezone\n",
    "import IPython.display as ipython\n",
    "\n",
    "# Extract Pipeline Name from logs\n",
    "pipeline_name = (\n",
    "    logs_data[0][\"log_metrics\"].get(\"Pipeline Name\", \"Unknown Pipeline\")\n",
    "    if logs_data else \"Unknown Pipeline\"\n",
    ")\n",
    "\n",
    "# Generate report timestamp\n",
    "report_timestamp = datetime.now(timezone.utc).strftime(\"%Y-%m-%d %H:%M:%S\")\n",
    "\n",
    "# Display title and metadata\n",
    "ipython.display(ipython.Markdown(f\"# PySpark Pipeline Log Report for {pipeline_name}\"))\n",
    "ipython.display(ipython.Markdown(f\"**Report Generated On:** {report_timestamp}\"))\n",
    "ipython.display(ipython.Markdown(\"This report analyses PySpark pipeline logs, focusing on cost over time.\")) # noqa: E501"
   ]
  },
  {
   "cell_type": "code",
   "execution_count": null,
   "id": "81877a5f",
   "metadata": {},
   "outputs": [],
   "source": [
    "import pandas as pd\n",
    "import matplotlib.pyplot as plt\n",
    "\n",
    "# Ensure logs_data is not empty\n",
    "if not logs_data:\n",
    "    error_msg = \"logs_data is empty. Ensure Papermill is passing correct data.\"\n",
    "    raise ValueError(error_msg)\n"
   ]
  },
  {
   "cell_type": "markdown",
   "id": "b64e3099",
   "metadata": {},
   "source": [
    "## Data Processing\n",
    "\n",
    "This section extracts timestamps and monetary costs from the PySpark logs."
   ]
  },
  {
   "cell_type": "code",
   "execution_count": null,
   "id": "2a9dcddd",
   "metadata": {},
   "outputs": [],
   "source": [
    "# Convert logs data to a DataFrame\n",
    "df = pd.DataFrame(logs_data)\n",
    "\n",
    "# Extract relevant columns\n",
    "df[\"timestamp\"] = df[\"log_metrics\"].apply(lambda x: x[\"Timestamp\"])\n",
    "df[\"pipeline_cost\"] = df[\"cost_metrics\"].apply(lambda x: x[\"costs\"][\"pipeline_cost\"])\n",
    "df[\"pipeline_name\"] = df[\"log_metrics\"].apply(\n",
    "    lambda x: x.get(\"Pipeline Name\", \"Unknown Pipeline\"),\n",
    ")\n",
    "\n",
    "# Convert timestamp to datetime\n",
    "df[\"timestamp\"] = pd.to_datetime(df[\"timestamp\"], unit=\"ms\")\n",
    "\n",
    "# Keep only required columns\n",
    "df = df[[\"timestamp\", \"pipeline_cost\"]]\n",
    "\n",
    "# Display processed DataFrame\n",
    "df"
   ]
  },
  {
   "cell_type": "markdown",
   "id": "dee19f0e",
   "metadata": {},
   "source": [
    "## Cost Over Time\n",
    "\n",
    "This section visualises the pipeline cost over time using a simple line plot."
   ]
  },
  {
   "cell_type": "code",
   "execution_count": null,
   "id": "4555068e",
   "metadata": {
    "tags": [
     "hide_input"
    ]
   },
   "outputs": [],
   "source": [
    "# Get the pipeline name from the first record, defaulting to \"Pipeline Report\"\n",
    "pipeline_name = (\n",
    "    logs_data[0][\"log_metrics\"].get(\"Pipeline Name\", \"Pipeline Report\")\n",
    "    if logs_data else \"Pipeline Report\"\n",
    ")\n",
    "\n",
    "# Sort values for correct ordering\n",
    "df = df.sort_values(by=\"timestamp\")\n",
    "\n",
    "# Scatter plot for better visualization of discrete points\n",
    "ax = df.plot(\n",
    "    x=\"timestamp\",\n",
    "    y=\"pipeline_cost\",\n",
    "    kind=\"scatter\",\n",
    "    figsize=(10,5),\n",
    "    color=\"b\",\n",
    ")\n",
    "\n",
    "# Set title dynamically based on pipeline name\n",
    "ax.set_title(f\"Monetary Cost Over Time - {pipeline_name}\")\n",
    "\n",
    "plt.xlabel(\"Timestamp\")\n",
    "plt.ylabel(\"Cost ($)\")\n",
    "plt.grid(True)\n",
    "plt.show()"
   ]
  }
 ],
 "metadata": {
  "kernelspec": {
   "display_name": "Python 3",
   "language": "python",
   "name": "python3"
  },
  "language_info": {
   "name": "python",
   "version": "3.8"
  }
 },
 "nbformat": 4,
 "nbformat_minor": 5
}
